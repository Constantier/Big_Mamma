{
 "cells": [
  {
   "cell_type": "code",
   "execution_count": 1,
   "id": "aefbacb8",
   "metadata": {
    "ExecuteTime": {
     "end_time": "2022-04-24T17:13:11.104286Z",
     "start_time": "2022-04-24T17:13:11.096092Z"
    }
   },
   "outputs": [],
   "source": [
    "from Big_Mamma.get_data import get_sports_event_europe"
   ]
  },
  {
   "cell_type": "code",
   "execution_count": 2,
   "id": "8e8485ce",
   "metadata": {
    "ExecuteTime": {
     "end_time": "2022-04-24T17:13:27.021525Z",
     "start_time": "2022-04-24T17:13:26.089860Z"
    }
   },
   "outputs": [
    {
     "data": {
      "text/html": [
       "<div>\n",
       "<style scoped>\n",
       "    .dataframe tbody tr th:only-of-type {\n",
       "        vertical-align: middle;\n",
       "    }\n",
       "\n",
       "    .dataframe tbody tr th {\n",
       "        vertical-align: top;\n",
       "    }\n",
       "\n",
       "    .dataframe thead th {\n",
       "        text-align: right;\n",
       "    }\n",
       "</style>\n",
       "<table border=\"1\" class=\"dataframe\">\n",
       "  <thead>\n",
       "    <tr style=\"text-align: right;\">\n",
       "      <th></th>\n",
       "      <th>name</th>\n",
       "      <th>locations</th>\n",
       "      <th>Start date</th>\n",
       "      <th>End date</th>\n",
       "    </tr>\n",
       "  </thead>\n",
       "  <tbody>\n",
       "    <tr>\n",
       "      <th>0</th>\n",
       "      <td>🛷2021 European Skeleton Championships</td>\n",
       "      <td>[🇩🇪Winterberg]</td>\n",
       "      <td>8 January 2021</td>\n",
       "      <td>8 January 2021</td>\n",
       "    </tr>\n",
       "    <tr>\n",
       "      <th>1</th>\n",
       "      <td>🛷2021 Luge European Championships</td>\n",
       "      <td>[🇱🇻Sigulda]</td>\n",
       "      <td>9 January 2021</td>\n",
       "      <td>10 January 2021</td>\n",
       "    </tr>\n",
       "    <tr>\n",
       "      <th>2</th>\n",
       "      <td>🛷2021 European Bobsleigh Championship</td>\n",
       "      <td>[🇩🇪Winterberg]</td>\n",
       "      <td>9 January 2021</td>\n",
       "      <td>10 January 2021</td>\n",
       "    </tr>\n",
       "    <tr>\n",
       "      <th>3</th>\n",
       "      <td>⛸2021 European Speed Skating Championships</td>\n",
       "      <td>[🇳🇱Heerenveen]</td>\n",
       "      <td>16 January 2021</td>\n",
       "      <td>17 January 2021</td>\n",
       "    </tr>\n",
       "    <tr>\n",
       "      <th>4</th>\n",
       "      <td>⛸2021 European Short Track Speed Skating Champ...</td>\n",
       "      <td>[🇵🇱Gdansk]</td>\n",
       "      <td>22 January 2021</td>\n",
       "      <td>24 January 2021</td>\n",
       "    </tr>\n",
       "    <tr>\n",
       "      <th>5</th>\n",
       "      <td>⛷⚫2021 Biathlon European Championships</td>\n",
       "      <td>[🇵🇱Duszniki Zdroj]</td>\n",
       "      <td>27 January 2021</td>\n",
       "      <td>31 January 2021</td>\n",
       "    </tr>\n",
       "  </tbody>\n",
       "</table>\n",
       "</div>"
      ],
      "text/plain": [
       "                                                name  ...          End date\n",
       "0              🛷2021 European Skeleton Championships  ...    8 January 2021\n",
       "1                  🛷2021 Luge European Championships  ...   10 January 2021\n",
       "2              🛷2021 European Bobsleigh Championship  ...   10 January 2021\n",
       "3         ⛸2021 European Speed Skating Championships  ...   17 January 2021\n",
       "4  ⛸2021 European Short Track Speed Skating Champ...  ...   24 January 2021\n",
       "5             ⛷⚫2021 Biathlon European Championships  ...   31 January 2021\n",
       "\n",
       "[6 rows x 4 columns]"
      ]
     },
     "execution_count": 2,
     "metadata": {},
     "output_type": "execute_result"
    }
   ],
   "source": [
    "get_sports_event_europe('2021-01-01','2021-01-31')"
   ]
  },
  {
   "cell_type": "code",
   "execution_count": null,
   "id": "bf531745",
   "metadata": {},
   "outputs": [],
   "source": []
  }
 ],
 "metadata": {
  "kernelspec": {
   "display_name": "Python 3 (ipykernel)",
   "language": "python",
   "name": "python3"
  },
  "language_info": {
   "codemirror_mode": {
    "name": "ipython",
    "version": 3
   },
   "file_extension": ".py",
   "mimetype": "text/x-python",
   "name": "python",
   "nbconvert_exporter": "python",
   "pygments_lexer": "ipython3",
   "version": "3.8.12"
  },
  "toc": {
   "base_numbering": 1,
   "nav_menu": {},
   "number_sections": true,
   "sideBar": true,
   "skip_h1_title": false,
   "title_cell": "Table of Contents",
   "title_sidebar": "Contents",
   "toc_cell": false,
   "toc_position": {},
   "toc_section_display": true,
   "toc_window_display": false
  },
  "varInspector": {
   "cols": {
    "lenName": 16,
    "lenType": 16,
    "lenVar": 40
   },
   "kernels_config": {
    "python": {
     "delete_cmd_postfix": "",
     "delete_cmd_prefix": "del ",
     "library": "var_list.py",
     "varRefreshCmd": "print(var_dic_list())"
    },
    "r": {
     "delete_cmd_postfix": ") ",
     "delete_cmd_prefix": "rm(",
     "library": "var_list.r",
     "varRefreshCmd": "cat(var_dic_list()) "
    }
   },
   "types_to_exclude": [
    "module",
    "function",
    "builtin_function_or_method",
    "instance",
    "_Feature"
   ],
   "window_display": false
  }
 },
 "nbformat": 4,
 "nbformat_minor": 5
}
